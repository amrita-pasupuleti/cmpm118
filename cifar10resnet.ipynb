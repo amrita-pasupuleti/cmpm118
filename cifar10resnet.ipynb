{
 "cells": [
  {
   "cell_type": "code",
   "execution_count": 1,
   "metadata": {},
   "outputs": [],
   "source": [
    "import torch\n",
    "import torch.nn as nn\n",
    "import torch.optim as optim\n",
    "import torch.nn.functional as F\n",
    "import torchvision\n",
    "from torchvision import transforms, models\n",
    "from torch.utils.data import DataLoader, random_split"
   ]
  },
  {
   "cell_type": "code",
   "execution_count": 2,
   "metadata": {},
   "outputs": [
    {
     "data": {
      "text/plain": [
       "'cuda'"
      ]
     },
     "execution_count": 2,
     "metadata": {},
     "output_type": "execute_result"
    }
   ],
   "source": [
    "device = 'cuda' if torch.cuda.is_available() else 'cpu'\n",
    "device"
   ]
  },
  {
   "cell_type": "code",
   "execution_count": 3,
   "metadata": {},
   "outputs": [
    {
     "name": "stderr",
     "output_type": "stream",
     "text": [
      "/usr/local/lib/python3.10/dist-packages/torchvision/models/_utils.py:208: UserWarning: The parameter 'pretrained' is deprecated since 0.13 and may be removed in the future, please use 'weights' instead.\n",
      "  warnings.warn(\n",
      "/usr/local/lib/python3.10/dist-packages/torchvision/models/_utils.py:223: UserWarning: Arguments other than a weight enum or `None` for 'weights' are deprecated since 0.13 and may be removed in the future. The current behavior is equivalent to passing `weights=ResNet18_Weights.IMAGENET1K_V1`. You can also use `weights=ResNet18_Weights.DEFAULT` to get the most up-to-date weights.\n",
      "  warnings.warn(msg)\n"
     ]
    }
   ],
   "source": [
    "model = models.resnet18(pretrained=True)"
   ]
  },
  {
   "cell_type": "code",
   "execution_count": 4,
   "metadata": {},
   "outputs": [
    {
     "name": "stdout",
     "output_type": "stream",
     "text": [
      "Files already downloaded and verified\n",
      "Files already downloaded and verified\n"
     ]
    }
   ],
   "source": [
    "BATCH_SIZE = 128\n",
    "\n",
    "# Prepare dataset and preprocessing\n",
    "transform_train = transforms.Compose([\n",
    "    transforms.RandomHorizontalFlip(),      # Augmentation\n",
    "    transforms.ToTensor(),\n",
    "    transforms.Normalize((0.5, 0.5, 0.5), (0.5, 0.5, 0.5))    # Normalization for RGB images\n",
    "])\n",
    "\n",
    "transform_test = transforms.Compose([\n",
    "    transforms.ToTensor(),\n",
    "    transforms.Normalize((0.5, 0.5, 0.5), (0.5, 0.5, 0.5))    # Same normalization for test set\n",
    "])\n",
    "\n",
    "# Load CIFAR-10 dataset\n",
    "trainset = torchvision.datasets.CIFAR10(root='../data', train=True, download=True, transform=transform_train)\n",
    "trainloader = torch.utils.data.DataLoader(trainset, batch_size=BATCH_SIZE, shuffle=True, num_workers=2)\n",
    "\n",
    "testset = torchvision.datasets.CIFAR10(root='../data', train=False, download=True, transform=transform_test)\n",
    "testloader = torch.utils.data.DataLoader(testset, batch_size=100, shuffle=False, num_workers=2)\n",
    "\n"
   ]
  },
  {
   "cell_type": "code",
   "execution_count": 5,
   "metadata": {},
   "outputs": [
    {
     "data": {
      "text/plain": [
       "('airplane',\n",
       " 'automobile',\n",
       " 'bird',\n",
       " 'cat',\n",
       " 'deer',\n",
       " 'dog',\n",
       " 'frog',\n",
       " 'horse',\n",
       " 'ship',\n",
       " 'truck')"
      ]
     },
     "execution_count": 5,
     "metadata": {},
     "output_type": "execute_result"
    }
   ],
   "source": [
    "classes = ('airplane', 'automobile', 'bird', 'cat', 'deer', 'dog', 'frog', 'horse', 'ship', 'truck')\n",
    "classes"
   ]
  },
  {
   "cell_type": "code",
   "execution_count": 6,
   "metadata": {},
   "outputs": [],
   "source": [
    "class ResidualBlock(nn.Module):\n",
    "    def __init__(self, inchannel, outchannel, stride=1):\n",
    "        super(ResidualBlock, self).__init__()\n",
    "        self.left = nn.Sequential(\n",
    "            nn.Conv2d(inchannel, outchannel, kernel_size=3, stride=stride, padding=1, bias=False),\n",
    "            nn.BatchNorm2d(outchannel),\n",
    "            nn.ReLU(inplace=True),\n",
    "            nn.Conv2d(outchannel, outchannel, kernel_size=3, stride=1, padding=1, bias=False),\n",
    "            nn.BatchNorm2d(outchannel)\n",
    "        )\n",
    "        self.shortcut = nn.Sequential()\n",
    "        if stride != 1 or inchannel != outchannel:\n",
    "            self.shortcut = nn.Sequential(\n",
    "                nn.Conv2d(inchannel, outchannel, kernel_size=1, stride=stride, bias=False),\n",
    "                nn.BatchNorm2d(outchannel)\n",
    "            )\n",
    "\n",
    "    def forward(self, x):\n",
    "        out = self.left(x)\n",
    "        out = out + self.shortcut(x)\n",
    "        out = F.relu(out)\n",
    "        return out\n",
    "\n",
    "class ResNet(nn.Module):\n",
    "    def __init__(self, ResidualBlock, num_classes=10):\n",
    "        super(ResNet, self).__init__()\n",
    "        self.inchannel = 64\n",
    "        self.conv1 = nn.Sequential(\n",
    "            nn.Conv2d(3, 64, kernel_size=3, stride=1, padding=1, bias=False),  # Adjusted for RGB images\n",
    "            nn.BatchNorm2d(64),\n",
    "            nn.ReLU()\n",
    "        )\n",
    "        self.layer1 = self.make_layer(ResidualBlock, 64, 2, stride=1)\n",
    "        self.layer2 = self.make_layer(ResidualBlock, 128, 2, stride=2)\n",
    "        self.layer3 = self.make_layer(ResidualBlock, 256, 2, stride=2)\n",
    "        self.layer4 = self.make_layer(ResidualBlock, 512, 2, stride=2)\n",
    "        \n",
    "        # Dropout before fully connected layer\n",
    "        self.dropout = nn.Dropout(p=0.5)  # Set dropout probability (e.g., 0.5)\n",
    "        self.fc = nn.Linear(512, num_classes)\n",
    "\n",
    "    def make_layer(self, block, channels, num_blocks, stride):\n",
    "        strides = [stride] + [1] * (num_blocks - 1)\n",
    "        layers = []\n",
    "        for stride in strides:\n",
    "            layers.append(block(self.inchannel, channels, stride))\n",
    "            self.inchannel = channels\n",
    "        return nn.Sequential(*layers)\n",
    "\n",
    "    def forward(self, x):\n",
    "        out = self.conv1(x)\n",
    "        out = self.layer1(out)\n",
    "        out = F.dropout(out, p=0.3, training=self.training)  # Dropout after layer1\n",
    "        out = self.layer2(out)\n",
    "        out = F.dropout(out, p=0.3, training=self.training)  # Dropout after layer2\n",
    "        out = self.layer3(out)\n",
    "        out = F.dropout(out, p=0.3, training=self.training)  # Dropout after layer3\n",
    "        out = self.layer4(out)\n",
    "        out = F.avg_pool2d(out, 4)\n",
    "        out = out.view(out.size(0), -1)\n",
    "        \n",
    "        # Apply dropout before fully connected layer\n",
    "        out = self.dropout(out)\n",
    "        \n",
    "        out = self.fc(out)\n",
    "        return out\n",
    "\n",
    "def ResNet18():\n",
    "    return ResNet(ResidualBlock)\n",
    "\n"
   ]
  },
  {
   "cell_type": "code",
   "execution_count": 7,
   "metadata": {},
   "outputs": [],
   "source": [
    "net = ResNet18().to(device)"
   ]
  },
  {
   "cell_type": "code",
   "execution_count": 8,
   "metadata": {},
   "outputs": [],
   "source": [
    "criterion = nn.CrossEntropyLoss()\n",
    "optimizer = optim.SGD(net.parameters(), lr=0.001, momentum=0.95, weight_decay=5e-4)"
   ]
  },
  {
   "cell_type": "code",
   "execution_count": 9,
   "metadata": {},
   "outputs": [
    {
     "name": "stdout",
     "output_type": "stream",
     "text": [
      "\n",
      "Epoch: 1\n",
      "[epoch:1, iter:50] Loss: 2.277 | Acc: 15.109% \n",
      "[epoch:1, iter:100] Loss: 2.093 | Acc: 20.727% \n",
      "[epoch:1, iter:150] Loss: 2.001 | Acc: 23.984% \n",
      "[epoch:1, iter:200] Loss: 1.928 | Acc: 26.867% \n",
      "[epoch:1, iter:250] Loss: 1.868 | Acc: 29.172% \n",
      "[epoch:1, iter:300] Loss: 1.820 | Acc: 31.128% \n",
      "[epoch:1, iter:350] Loss: 1.777 | Acc: 32.877% \n",
      "Testing...\n",
      "Test Accuracy: 40.180%\n",
      "\n",
      "Epoch: 2\n",
      "[epoch:2, iter:50] Loss: 1.433 | Acc: 46.922% \n",
      "[epoch:2, iter:100] Loss: 1.403 | Acc: 48.484% \n",
      "[epoch:2, iter:150] Loss: 1.385 | Acc: 49.026% \n",
      "[epoch:2, iter:200] Loss: 1.361 | Acc: 49.801% \n",
      "[epoch:2, iter:250] Loss: 1.339 | Acc: 50.638% \n",
      "[epoch:2, iter:300] Loss: 1.325 | Acc: 51.151% \n",
      "[epoch:2, iter:350] Loss: 1.304 | Acc: 51.913% \n",
      "Testing...\n",
      "Test Accuracy: 46.760%\n",
      "\n",
      "Epoch: 3\n",
      "[epoch:3, iter:50] Loss: 1.118 | Acc: 59.875% \n",
      "[epoch:3, iter:100] Loss: 1.095 | Acc: 60.430% \n",
      "[epoch:3, iter:150] Loss: 1.081 | Acc: 60.969% \n",
      "[epoch:3, iter:200] Loss: 1.072 | Acc: 61.289% \n",
      "[epoch:3, iter:250] Loss: 1.059 | Acc: 61.788% \n",
      "[epoch:3, iter:300] Loss: 1.050 | Acc: 62.122% \n",
      "[epoch:3, iter:350] Loss: 1.042 | Acc: 62.406% \n",
      "Testing...\n",
      "Test Accuracy: 59.210%\n",
      "\n",
      "Epoch: 4\n",
      "[epoch:4, iter:50] Loss: 0.947 | Acc: 65.594% \n",
      "[epoch:4, iter:100] Loss: 0.925 | Acc: 66.656% \n",
      "[epoch:4, iter:150] Loss: 0.925 | Acc: 66.943% \n",
      "[epoch:4, iter:200] Loss: 0.921 | Acc: 67.062% \n",
      "[epoch:4, iter:250] Loss: 0.922 | Acc: 67.037% \n",
      "[epoch:4, iter:300] Loss: 0.912 | Acc: 67.346% \n",
      "[epoch:4, iter:350] Loss: 0.907 | Acc: 67.625% \n",
      "Testing...\n",
      "Test Accuracy: 65.630%\n",
      "\n",
      "Epoch: 5\n",
      "[epoch:5, iter:50] Loss: 0.817 | Acc: 71.328% \n",
      "[epoch:5, iter:100] Loss: 0.823 | Acc: 71.133% \n",
      "[epoch:5, iter:150] Loss: 0.819 | Acc: 71.010% \n",
      "[epoch:5, iter:200] Loss: 0.811 | Acc: 71.426% \n",
      "[epoch:5, iter:250] Loss: 0.808 | Acc: 71.566% \n",
      "[epoch:5, iter:300] Loss: 0.801 | Acc: 71.737% \n",
      "[epoch:5, iter:350] Loss: 0.799 | Acc: 71.768% \n",
      "Testing...\n",
      "Test Accuracy: 67.180%\n",
      "\n",
      "Epoch: 6\n",
      "[epoch:6, iter:50] Loss: 0.755 | Acc: 73.625% \n",
      "[epoch:6, iter:100] Loss: 0.740 | Acc: 73.938% \n",
      "[epoch:6, iter:150] Loss: 0.734 | Acc: 73.906% \n",
      "[epoch:6, iter:200] Loss: 0.727 | Acc: 74.141% \n",
      "[epoch:6, iter:250] Loss: 0.718 | Acc: 74.459% \n",
      "[epoch:6, iter:300] Loss: 0.717 | Acc: 74.565% \n",
      "[epoch:6, iter:350] Loss: 0.718 | Acc: 74.612% \n",
      "Testing...\n",
      "Test Accuracy: 74.510%\n",
      "\n",
      "Epoch: 7\n",
      "[epoch:7, iter:50] Loss: 0.674 | Acc: 76.156% \n",
      "[epoch:7, iter:100] Loss: 0.677 | Acc: 75.953% \n",
      "[epoch:7, iter:150] Loss: 0.672 | Acc: 76.161% \n",
      "[epoch:7, iter:200] Loss: 0.663 | Acc: 76.477% \n",
      "[epoch:7, iter:250] Loss: 0.660 | Acc: 76.703% \n",
      "[epoch:7, iter:300] Loss: 0.656 | Acc: 76.932% \n",
      "[epoch:7, iter:350] Loss: 0.650 | Acc: 77.069% \n",
      "Testing...\n",
      "Test Accuracy: 77.730%\n",
      "\n",
      "Epoch: 8\n",
      "[epoch:8, iter:50] Loss: 0.598 | Acc: 78.984% \n",
      "[epoch:8, iter:100] Loss: 0.591 | Acc: 79.148% \n",
      "[epoch:8, iter:150] Loss: 0.594 | Acc: 79.083% \n",
      "[epoch:8, iter:200] Loss: 0.593 | Acc: 79.207% \n",
      "[epoch:8, iter:250] Loss: 0.594 | Acc: 79.200% \n",
      "[epoch:8, iter:300] Loss: 0.595 | Acc: 79.151% \n",
      "[epoch:8, iter:350] Loss: 0.591 | Acc: 79.317% \n",
      "Testing...\n",
      "Test Accuracy: 78.960%\n",
      "\n",
      "Epoch: 9\n",
      "[epoch:9, iter:50] Loss: 0.558 | Acc: 80.828% \n",
      "[epoch:9, iter:100] Loss: 0.562 | Acc: 80.797% \n",
      "[epoch:9, iter:150] Loss: 0.558 | Acc: 80.698% \n",
      "[epoch:9, iter:200] Loss: 0.555 | Acc: 80.844% \n",
      "[epoch:9, iter:250] Loss: 0.549 | Acc: 81.041% \n",
      "[epoch:9, iter:300] Loss: 0.547 | Acc: 81.068% \n",
      "[epoch:9, iter:350] Loss: 0.543 | Acc: 81.156% \n",
      "Testing...\n",
      "Test Accuracy: 78.400%\n",
      "\n",
      "Epoch: 10\n",
      "[epoch:10, iter:50] Loss: 0.509 | Acc: 82.156% \n",
      "[epoch:10, iter:100] Loss: 0.516 | Acc: 81.719% \n",
      "[epoch:10, iter:150] Loss: 0.515 | Acc: 81.844% \n",
      "[epoch:10, iter:200] Loss: 0.514 | Acc: 82.004% \n",
      "[epoch:10, iter:250] Loss: 0.514 | Acc: 82.047% \n",
      "[epoch:10, iter:300] Loss: 0.515 | Acc: 82.029% \n",
      "[epoch:10, iter:350] Loss: 0.514 | Acc: 82.105% \n",
      "Testing...\n",
      "Test Accuracy: 79.810%\n",
      "Training complete.\n"
     ]
    }
   ],
   "source": [
    "all_iteration_losses = []\n",
    "for epoch in range(10):\n",
    "    print('\\nEpoch: %d' % (epoch + 1))\n",
    "    net.train()\n",
    "    sum_loss = 0.0\n",
    "    correct = 0\n",
    "    total = 0\n",
    "    for i, data in enumerate(trainloader, 0):\n",
    "        inputs, labels = data\n",
    "        inputs, labels = inputs.to(device), labels.to(device)\n",
    "        optimizer.zero_grad()\n",
    "\n",
    "        # Forward & backward\n",
    "        outputs = net(inputs)\n",
    "        loss = criterion(outputs, labels)\n",
    "        loss.backward()\n",
    "        optimizer.step()\n",
    "\n",
    "        # Store the loss for this iteration\n",
    "        all_iteration_losses.append(loss.item())\n",
    "\n",
    "        # Calculate accuracy and accumulate loss\n",
    "        sum_loss += loss.item()\n",
    "        _, predicted = torch.max(outputs.data, 1)\n",
    "        total += labels.size(0)\n",
    "        correct += (predicted == labels).sum().item()\n",
    "\n",
    "        # Print every 50 iterations\n",
    "        if (i + 1) % 50 == 0:\n",
    "            print('[epoch:%d, iter:%d] Loss: %.03f | Acc: %.3f%% '\n",
    "                  % (epoch + 1, (i + 1), sum_loss / (i + 1), 100. * correct / total))\n",
    "\n",
    "    # Test after each epoch\n",
    "    print('Testing...')\n",
    "    net.eval()\n",
    "    correct = 0\n",
    "    total = 0\n",
    "    with torch.no_grad():\n",
    "        for data in testloader:\n",
    "            images, labels = data\n",
    "            images, labels = images.to(device), labels.to(device)\n",
    "            outputs = net(images)\n",
    "            _, predicted = torch.max(outputs.data, 1)\n",
    "            total += labels.size(0)\n",
    "            correct += (predicted == labels).sum().item()\n",
    "        print('Test Accuracy: %.3f%%' % (100 * correct / total))\n",
    "\n",
    "print('Training complete.')"
   ]
  },
  {
   "cell_type": "code",
   "execution_count": 10,
   "metadata": {},
   "outputs": [
    {
     "data": {
      "image/png": "[encoded data removed]",
      "text/plain": [
       "<Figure size 1000x600 with 1 Axes>"
      ]
     },
     "metadata": {},
     "output_type": "display_data"
    }
   ],
   "source": [
    "import matplotlib.pyplot as plt\n",
    "%matplotlib inline\n",
    "\n",
    "plt.figure(figsize=(10, 6))\n",
    "plt.plot(all_iteration_losses, label='Loss per Iteration')\n",
    "plt.xlabel('Iteration')\n",
    "plt.ylabel('Loss')\n",
    "plt.title('Loss for Each Iteration Across All Epochs')\n",
    "plt.legend()\n",
    "plt.show()\n",
    "\n"
   ]
  }
 ],
 "metadata": {
  "interpreter": {
   "hash": "767d51c1340bd893661ea55ea3124f6de3c7a262a8b4abca0554b478b1e2ff90"
  },
  "kernelspec": {
   "display_name": "Python 3.10.12 64-bit",
   "language": "python",
   "name": "python3"
  },
  "language_info": {
   "codemirror_mode": {
    "name": "ipython",
    "version": 3
   },
   "file_extension": ".py",
   "mimetype": "text/x-python",
   "name": "python",
   "nbconvert_exporter": "python",
   "pygments_lexer": "ipython3",
   "version": "3.10.12"
  },
  "orig_nbformat": 4
 },
 "nbformat": 4,
 "nbformat_minor": 2
}
